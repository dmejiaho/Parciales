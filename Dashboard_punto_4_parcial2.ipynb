{
  "nbformat": 4,
  "nbformat_minor": 0,
  "metadata": {
    "colab": {
      "provenance": [],
      "include_colab_link": true
    },
    "kernelspec": {
      "name": "python3",
      "display_name": "Python 3"
    },
    "language_info": {
      "name": "python"
    }
  },
  "cells": [
    {
      "cell_type": "markdown",
      "metadata": {
        "id": "view-in-github",
        "colab_type": "text"
      },
      "source": [
        "<a href=\"https://colab.research.google.com/github/dmejiaho/Parciales/blob/main/Dashboard_punto_4_parcial2.ipynb\" target=\"_parent\"><img src=\"https://colab.research.google.com/assets/colab-badge.svg\" alt=\"Open In Colab\"/></a>"
      ]
    },
    {
      "cell_type": "code",
      "source": [
        "!pip install streamlit -q #instalación de librerías\n",
        "!pip install pyngrok\n"
      ],
      "metadata": {
        "colab": {
          "base_uri": "https://localhost:8080/"
        },
        "id": "K9prbYkY7-Jy",
        "outputId": "20e0dae4-2ce5-4ada-d533-5907246fa29b"
      },
      "execution_count": null,
      "outputs": [
        {
          "output_type": "stream",
          "name": "stdout",
          "text": [
            "\u001b[2K   \u001b[90m━━━━━━━━━━━━━━━━━━━━━━━━━━━━━━━━━━━━━━━━\u001b[0m \u001b[32m8.7/8.7 MB\u001b[0m \u001b[31m18.1 MB/s\u001b[0m eta \u001b[36m0:00:00\u001b[0m\n",
            "\u001b[2K   \u001b[90m━━━━━━━━━━━━━━━━━━━━━━━━━━━━━━━━━━━━━━━━\u001b[0m \u001b[32m207.3/207.3 kB\u001b[0m \u001b[31m8.7 MB/s\u001b[0m eta \u001b[36m0:00:00\u001b[0m\n",
            "\u001b[2K   \u001b[90m━━━━━━━━━━━━━━━━━━━━━━━━━━━━━━━━━━━━━━━━\u001b[0m \u001b[32m6.9/6.9 MB\u001b[0m \u001b[31m28.5 MB/s\u001b[0m eta \u001b[36m0:00:00\u001b[0m\n",
            "\u001b[2K   \u001b[90m━━━━━━━━━━━━━━━━━━━━━━━━━━━━━━━━━━━━━━━━\u001b[0m \u001b[32m82.9/82.9 kB\u001b[0m \u001b[31m4.7 MB/s\u001b[0m eta \u001b[36m0:00:00\u001b[0m\n",
            "\u001b[2K   \u001b[90m━━━━━━━━━━━━━━━━━━━━━━━━━━━━━━━━━━━━━━━━\u001b[0m \u001b[32m62.7/62.7 kB\u001b[0m \u001b[31m2.8 MB/s\u001b[0m eta \u001b[36m0:00:00\u001b[0m\n",
            "\u001b[?25hCollecting pyngrok\n",
            "  Downloading pyngrok-7.2.0-py3-none-any.whl.metadata (7.4 kB)\n",
            "Requirement already satisfied: PyYAML>=5.1 in /usr/local/lib/python3.10/dist-packages (from pyngrok) (6.0.2)\n",
            "Downloading pyngrok-7.2.0-py3-none-any.whl (22 kB)\n",
            "Installing collected packages: pyngrok\n",
            "Successfully installed pyngrok-7.2.0\n"
          ]
        }
      ]
    },
    {
      "cell_type": "code",
      "execution_count": null,
      "metadata": {
        "colab": {
          "base_uri": "https://localhost:8080/"
        },
        "id": "EYmfMLf872X7",
        "outputId": "503e4847-764b-4805-b529-0b010b3b8d1d"
      },
      "outputs": [
        {
          "output_type": "stream",
          "name": "stdout",
          "text": [
            "Writing THD.py\n"
          ]
        }
      ],
      "source": [
        "%%writefile THD.py\n",
        "import streamlit as st\n",
        "import numpy as np\n",
        "import matplotlib.pyplot as plt\n",
        "import scipy.signal as sig\n",
        "st.sidebar.title(\"Involucrados en el Proyecto\")\n",
        "st.sidebar.write(\"Juan Jeronimo Castaño Rivera\")\n",
        "st.sidebar.write(\"Daniel Mauricio Mejia Hoyos\")\n",
        "st.sidebar.write(\"Wilmer Sebastian Perez Cuastumal\")\n",
        "# Título y descripción general\n",
        "st.title('Cálculo del THD en Circuitos RC y Resistivos Puros')\n",
        "st.write(\"\"\"\n",
        "En este dashboard se muestra el cálculo de la **Distorsión Armónica Total (THD)** en circuitos RC y resistivos puros.\n",
        "\"\"\")\n",
        "\n",
        "st.write(\"\"\"\n",
        "### ¿Qué es el THD?\n",
        "La **Distorsión Armónica Total (THD)** es una medida de la cantidad de distorsión armónica presente en una señal.\n",
        "Se calcula comparando la magnitud de los armónicos superiores con la magnitud de la frecuencia fundamental.\n",
        "\n",
        "El **THD** se define como:\n",
        "\"\"\")\n",
        "\n",
        "st.latex(\"THD = \\\\frac{\\\\sqrt{V_2^2 + V_3^2 + V_4^2 + ...}}{V_1}\")\n",
        "\n",
        "st.write(\"\"\"\n",
        "Donde: \"\"\")\n",
        "st.latex(\"V_1\")\n",
        "st.write(\"\"\"es la magnitud de la frecuencia fundamental y: \"\"\")\n",
        "st.latex(\"V_2, V_3, V_4,...\")\n",
        "st.write(\"\"\"son las magnitudes de los armónicos superiores.\n",
        "\"\"\")\n",
        "\n",
        "# Explicación del proceso de cálculo del THD usando FFT\n",
        "st.write(\"\"\"\n",
        "### Cálculo del THD a partir de la FFT\n",
        "Para calcular el THD, se uasa la **Transformada Rápida de Fourier (FFT)**, que permite transformar una señal del dominio del tiempo al dominio de la frecuencia.\n",
        "\n",
        "Primero, se obtiene la **frecuencia fundamental** de la señal, que es el componente de mayor magnitud en el espectro de frecuencias. Luego, se calcula la contribución de los armónicos (frecuencias superiores) y con la fórmula anterior se obtiene el THD.\n",
        "\"\"\")\n",
        "\n",
        "# Parámetros de la señal de entrada\n",
        "Fo = 60  # Frecuencia de la señal (Hz)\n",
        "Fs = 30 * Fo  # Frecuencia de muestreo (Hz)\n",
        "To = 1 / Fo  # Periodo fundamental\n",
        "Ts = 1 / Fs  # Periodo de muestreo\n",
        "t = np.arange(0, 5 * To, Ts)  # Simulamos 5 periodos de la señal\n",
        "A = 120  # Amplitud de la señal de entrada\n",
        "\n",
        "# Generación de la señal de entrada y su rectificación\n",
        "st.subheader(\"Señal de Entrada y Rectificación\")\n",
        "st.write(\"\"\"\n",
        "Se genera una señal senoidal de 60 Hz, que es típica en sistemas de alimentación eléctrica.\n",
        "Luego, se rectifica para simular la señal que pasa por un circuito de rectificación.\n",
        "\"\"\")\n",
        "in_o = A * np.sin(2 * np.pi * Fo * t)\n",
        "rec_c = sig.square(2 * np.pi * Fo * t)  # Tren de pulsos para la señal rectificada completa\n",
        "in_ = in_o * rec_c  # Entrada rectificada completa\n",
        "\n",
        "# Mostrar las gráficas de la señal de entrada y rectificada\n",
        "st.write(\"### Señal de Alimentación Original (Senoidal)\")\n",
        "plt.figure()\n",
        "plt.plot(t, in_o, label='Alimentación')\n",
        "plt.xlabel('Tiempo [s]')\n",
        "plt.ylabel('Amplitud')\n",
        "plt.legend()\n",
        "st.pyplot(plt)\n",
        "\n",
        "st.write(\"### Señal Rectificada Completa\")\n",
        "plt.figure()\n",
        "plt.plot(t, in_, label='Señal Rectificada')\n",
        "plt.xlabel('Tiempo [s]')\n",
        "plt.ylabel('Amplitud')\n",
        "plt.legend()\n",
        "st.pyplot(plt)\n",
        "\n",
        "# Slider para ajustar R y C\n",
        "st.subheader(\"Parámetros del Circuito RC\")\n",
        "st.write(\"\"\"\n",
        "Ahora se pueden modificar los valores de la resistencia (R) y la capacitancia (C) para observar cómo afecta el circuito RC a la señal rectificada.\n",
        "\"\"\")\n",
        "R_v = st.slider('Resistencia R (Ohmios)', min_value=100, max_value=2000, value=1000, step=100)\n",
        "C_v = st.slider('Capacitancia C (μF)', min_value=1, max_value=50, value=10, step=1) * 1e-6\n",
        "\n",
        "# Función de transferencia del circuito RC en serie\n",
        "st.write(\"\"\"\n",
        "### Función de Transferencia del Circuito RC en Serie\n",
        "Para el circuito RC en serie, la función de transferencia se define como:\n",
        "\"\"\")\n",
        "st.latex(\"H(s) = \\\\frac{1}{RCs + 1}\")\n",
        "\n",
        "\n",
        "st.write(\"\"\"\n",
        "Esta función de transferencia permite modelar el comportamiento del circuito en el dominio de la frecuencia.\n",
        "\"\"\")\n",
        "# Definición de la función de transferencia del circuito RC\n",
        "num = np.array([1])  # Coeficiente del numerador\n",
        "den = np.array([R_v * C_v, 1])  # Coeficientes del denominador\n",
        "G_n = sig.TransferFunction(num, den)  # Definición de la función de transferencia\n",
        "\n",
        "# Evaluar la salida del circuito RC\n",
        "_, out_rc, _ = sig.lsim(G_n, U=in_, T=t)\n",
        "\n",
        "# Gráfica de la salida del circuito RC\n",
        "st.subheader(\"Salida del Circuito RC\")\n",
        "st.write(\"\"\"\n",
        "La siguiente gráfica muestra cómo la señal rectificada cambia al pasar por el circuito RC en serie.\n",
        "\"\"\")\n",
        "plt.figure()\n",
        "plt.plot(t, out_rc, label='Salida del Circuito RC')\n",
        "plt.xlabel('Tiempo [s]')\n",
        "plt.ylabel('Amplitud')\n",
        "plt.legend()\n",
        "st.pyplot(plt)\n",
        "#plt.plot(t, in_,label='In(t)')#entrada rectificada\n",
        "st.subheader(\"Salida del Circuito resistivo\")\n",
        "st.write(\"\"\"\n",
        "La siguiente gráfica muestra cómo la señal rectificada de salida del circuito resistivo.\n",
        "\"\"\")\n",
        "plt.figure()\n",
        "plt.plot(t, in_,c=\"r\",label='Out(t)')#salida del circuito\n",
        "plt.xlabel('t [s]')\n",
        "plt.ylabel('out(t)')\n",
        "st.pyplot(plt)\n",
        "# Cálculo del THD simplificado basado en la FFT\n",
        "def calcular_thd(signal, Fs):\n",
        "    Xf = np.fft.rfft(signal)  # FFT de la señal\n",
        "    magnitudes = np.abs(Xf)\n",
        "    freqs = np.fft.rfftfreq(len(signal), 1 / Fs)\n",
        "\n",
        "    # Identificar la frecuencia fundamental\n",
        "    fundamental_idx = np.argmax(magnitudes)\n",
        "    fundamental = magnitudes[fundamental_idx]\n",
        "\n",
        "    # Cálculo del THD como la suma de los armónicos sobre la fundamental\n",
        "    thd = np.sqrt(np.sum(magnitudes[1:]**2)) / fundamental\n",
        "    return thd\n",
        "\n",
        "# Calcular el THD\n",
        "thd_rc = calcular_thd(out_rc, Fs)\n",
        "thd_resistive = calcular_thd(in_, Fs)\n",
        "\n",
        "# Mostrar el valor del THD\n",
        "st.subheader(\"Resultados del THD\")\n",
        "st.markdown(\"\"\"\n",
        "El valor del THD es una medida de la distorsión de la señal debida a los armónicos.\n",
        "A continuación, se muestran los valores del THD tanto para el circuito resistivo puro como para el circuito RC en serie:\n",
        "\"\"\")\n",
        "st.markdown(f\"**THD del circuito RC**: {thd_rc * 100:.2f}%\")\n",
        "st.markdown(f\"**THD del circuito resistivo puro**: {thd_resistive * 100:.2f}%\")\n",
        "st.subheader('Cálculo del Factor de Potencia basado en THD')\n",
        "\n",
        "st.subheader('¿Qué es el Factor de Potencia?')\n",
        "st.write('''\n",
        "El **Factor de Potencia (FP)** mide la eficiencia con la que un sistema eléctrico convierte la energía eléctrica en trabajo útil.\n",
        "Cuando la señal tiene **Distorsión Armónica Total (THD)**, parte de la potencia se pierde en los armónicos, reduciendo la eficiencia.\n",
        "\n",
        "La fórmula general del Factor de Potencia con THD es:\n",
        "''')\n",
        "\n",
        "st.latex(r'''\n",
        "FP = \\sqrt{\\frac{1}{1 + \\left(THD\\right)^2}}\n",
        "''')\n",
        "\n",
        "st.write('''\n",
        "Donde el **THD** representa el porcentaje de distorsión de la señal. A medida que aumenta el **THD**, más potencia se pierde en los armónicos, reduciendo el **Factor de Potencia**.\n",
        "''')\n",
        "st.markdown(\"\"\"\n",
        "A continuación, se muestran los valores del factor de potencia tanto para el circuito resistivo puro como para el circuito RC en serie:\n",
        "\"\"\")\n",
        "pf1 = np.sqrt(1 / (1 + (thd_rc )**2))\n",
        "pf2 = np.sqrt(1 / (1 + (thd_resistive)**2))\n",
        "st.markdown(f\"**FP del circuito RC**: {pf1}\")\n",
        "st.markdown(f\"**FP del circuito resistivo puro**: {pf2}\")\n",
        "\n",
        "# FFT de la señal de salida para el circuito RC\n",
        "vfre_rc = np.fft.rfftfreq(len(out_rc), Ts)  # Vector de frecuencias en Hz\n",
        "Xf_rc = np.fft.rfft(out_rc)  # FFT de la salida\n",
        "\n",
        "st.markdown(\"### FFT de la Salida del Circuito RC\")\n",
        "st.markdown(\"\"\"\n",
        "La **Transformada de Fourier** nos muestra el contenido de frecuencias de la señal.\n",
        "La siguiente gráfica muestra cómo se distribuyen las frecuencias en la señal después de pasar por el circuito RC.\n",
        "\"\"\")\n",
        "plt.figure()\n",
        "plt.stem(vfre_rc, np.abs(Xf_rc) / len(out_rc), use_line_collection=True)\n",
        "plt.xlabel('Frecuencia [Hz]')\n",
        "plt.ylabel('Magnitud FFT')\n",
        "st.pyplot(plt)\n",
        "\n",
        "# FFT de la señal para el circuito resistivo puro\n",
        "vfre_resistive = np.fft.rfftfreq(len(in_), Ts)\n",
        "Xf_resistive = np.fft.rfft(in_)\n",
        "\n",
        "st.write(\"### FFT del Circuito Resistivo Puro\")\n",
        "st.write(\"\"\"\n",
        "Este gráfico muestra la FFT de la señal en un circuito resistivo puro, sin ningún circuito adicional que altere la señal.\n",
        "\"\"\")\n",
        "plt.figure()\n",
        "plt.stem(vfre_resistive, np.abs(Xf_resistive) / len(in_), use_line_collection=True)\n",
        "plt.xlabel('Frecuencia [Hz]')\n",
        "plt.ylabel('Magnitud FFT')\n",
        "st.pyplot(plt)\n",
        "\n"
      ]
    },
    {
      "cell_type": "code",
      "source": [
        "token = '2lkDq5UB0Fkd6bAHgWTY47xtuV7_6HPVsJ7uiVqutGiq46W3J' #colocar aquí su token personal después de crear su cuenta con correo UNAL en Ngrok"
      ],
      "metadata": {
        "id": "yKieGZ1j8Tok"
      },
      "execution_count": null,
      "outputs": []
    },
    {
      "cell_type": "code",
      "source": [
        "from pyngrok import ngrok\n",
        "\n",
        "# Set authentication token (unique per user)\n",
        "ngrok.set_auth_token(token)\n",
        "\n",
        "# Start Streamlit server on a specific port\n",
        "!nohup streamlit run THD.py --server.port 5011 &\n",
        "\n",
        "# Start ngrok tunnel to expose the Streamlit server\n",
        "ngrok_tunnel = ngrok.connect(addr='5011', proto='http', bind_tls=True)\n",
        "\n",
        "# Print the URL of the ngrok tunnel\n",
        "print(' * Tunnel URL:', ngrok_tunnel.public_url)"
      ],
      "metadata": {
        "colab": {
          "base_uri": "https://localhost:8080/"
        },
        "id": "kfgZcpqY8P21",
        "outputId": "d50985a2-b4aa-445c-f08e-fc5b6ee84f77"
      },
      "execution_count": null,
      "outputs": [
        {
          "output_type": "stream",
          "name": "stdout",
          "text": [
            "nohup: appending output to 'nohup.out'\n",
            " * Tunnel URL: https://71ef-34-135-78-115.ngrok-free.app\n"
          ]
        }
      ]
    }
  ]
}