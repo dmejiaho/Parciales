{
  "nbformat": 4,
  "nbformat_minor": 0,
  "metadata": {
    "colab": {
      "provenance": [],
      "include_colab_link": true
    },
    "kernelspec": {
      "name": "python3",
      "display_name": "Python 3"
    },
    "language_info": {
      "name": "python"
    }
  },
  "cells": [
    {
      "cell_type": "markdown",
      "metadata": {
        "id": "view-in-github",
        "colab_type": "text"
      },
      "source": [
        "<a href=\"https://colab.research.google.com/github/dmejiaho/Parciales/blob/main/Dashboard_punto_2_parcial2.ipynb\" target=\"_parent\"><img src=\"https://colab.research.google.com/assets/colab-badge.svg\" alt=\"Open In Colab\"/></a>"
      ]
    },
    {
      "cell_type": "code",
      "execution_count": null,
      "metadata": {
        "colab": {
          "base_uri": "https://localhost:8080/"
        },
        "id": "RxVQgwEXC3xq",
        "outputId": "400ce0bf-4ac0-4d83-dbb0-887bd9e51fee"
      },
      "outputs": [
        {
          "output_type": "stream",
          "name": "stdout",
          "text": [
            "\u001b[2K   \u001b[90m━━━━━━━━━━━━━━━━━━━━━━━━━━━━━━━━━━━━━━━━\u001b[0m \u001b[32m8.7/8.7 MB\u001b[0m \u001b[31m10.6 MB/s\u001b[0m eta \u001b[36m0:00:00\u001b[0m\n",
            "\u001b[2K   \u001b[90m━━━━━━━━━━━━━━━━━━━━━━━━━━━━━━━━━━━━━━━━\u001b[0m \u001b[32m207.3/207.3 kB\u001b[0m \u001b[31m4.3 MB/s\u001b[0m eta \u001b[36m0:00:00\u001b[0m\n",
            "\u001b[2K   \u001b[90m━━━━━━━━━━━━━━━━━━━━━━━━━━━━━━━━━━━━━━━━\u001b[0m \u001b[32m6.9/6.9 MB\u001b[0m \u001b[31m13.0 MB/s\u001b[0m eta \u001b[36m0:00:00\u001b[0m\n",
            "\u001b[2K   \u001b[90m━━━━━━━━━━━━━━━━━━━━━━━━━━━━━━━━━━━━━━━━\u001b[0m \u001b[32m82.9/82.9 kB\u001b[0m \u001b[31m3.9 MB/s\u001b[0m eta \u001b[36m0:00:00\u001b[0m\n",
            "\u001b[2K   \u001b[90m━━━━━━━━━━━━━━━━━━━━━━━━━━━━━━━━━━━━━━━━\u001b[0m \u001b[32m62.7/62.7 kB\u001b[0m \u001b[31m3.0 MB/s\u001b[0m eta \u001b[36m0:00:00\u001b[0m\n",
            "\u001b[?25hCollecting pyngrok\n",
            "  Downloading pyngrok-7.2.0-py3-none-any.whl.metadata (7.4 kB)\n",
            "Requirement already satisfied: PyYAML>=5.1 in /usr/local/lib/python3.10/dist-packages (from pyngrok) (6.0.2)\n",
            "Downloading pyngrok-7.2.0-py3-none-any.whl (22 kB)\n",
            "Installing collected packages: pyngrok\n",
            "Successfully installed pyngrok-7.2.0\n"
          ]
        }
      ],
      "source": [
        "!pip install streamlit -q #instalación de librerías\n",
        "!pip install pyngrok"
      ]
    },
    {
      "cell_type": "code",
      "source": [
        "%%writefile seriefourier.py\n",
        "import streamlit as st\n",
        "import numpy as np\n",
        "import matplotlib.pyplot as plt\n",
        "from ipywidgets import interact\n",
        "from ipywidgets import IntSlider\n",
        "\n",
        "# Configurar el nombre de la página y el ícono\n",
        "st.set_page_config(page_title=\"Serie de Fourier\", page_icon=\":chart_with_upwards_trend:\")\n",
        "\n",
        "# Barra lateral para mostrar los nombres de los involucrados\n",
        "st.sidebar.title(\"Involucrados en el Proyecto\")\n",
        "st.sidebar.write(\"Juan Jeronimo Castaño Rivera\")\n",
        "st.sidebar.write(\"Daniel Mauricio Mejia Hoyos\")\n",
        "st.sidebar.write(\"Wilmer Sebastian Perez Cuastumal\")\n",
        "\n",
        "# Título del dashboard\n",
        "st.title(\"Análisis de Serie de Fourier\")\n",
        "\n",
        "# Explicación del procedimiento\n",
        "st.markdown(\"\"\"\n",
        "### Procedimiento\n",
        "Se utilizó las series de Fourier para descomponer una señal periódica en sus componentes de frecuencia. Utilizando una señal sinusoidal y se calcularon su espectro en el dominio de la frecuencia, así como la señal reconstruida a partir de un número finito de armónicos.\n",
        "\"\"\")\n",
        "\n",
        "# Mostrar la señal original\n",
        "st.subheader(\"Señal Original\")\n",
        "\n",
        "st.markdown(\"\"\n",
        "\"\")\n",
        "st.latex(\"x(t)=|Asin(2πF_o t)|^2 \")\n",
        "st.latex(r\"t ∈ [−\\frac{1}{2F_o},\\frac{1}{2F_o}], \\qquad   A,\\, F_o \\, ∈ \\, R+ \")\n",
        "st.markdown(\"\"\"\n",
        "#### Se asume\n",
        "\"\"\")\n",
        "st.latex(\"A=1\")\n",
        "st.latex(\"F_o=1/π\")\n",
        "\n",
        "To = np.pi  # periodo definido\n",
        "Fo = 1/To\n",
        "Fs = 100*Fo  # frecuencia de muestreo definida\n",
        "\n",
        "tv = np.arange(-To/2, To/2, 1/Fs)  # vector de tiempo generado\n",
        "Nm = len(tv)  # número de muestras requeridas\n",
        "A = 1  # Constante definida\n",
        "x = (A*np.sin(2*np.pi*Fo*tv))**2\n",
        "\n",
        "st.markdown(\"\"\"\n",
        "#### Gráfica\n",
        "\"\"\")\n",
        "\n",
        "plt.figure()\n",
        "plt.plot(tv, x, 'r', linewidth=4)\n",
        "plt.grid()\n",
        "plt.xlabel(\"t[s]\", fontsize=14)\n",
        "plt.ylabel(\"x(t)\", fontsize=14)\n",
        "st.pyplot(plt.gcf())  # Mostrar la figura\n",
        "\n",
        "# Mostrar el espectro de Fourier\n",
        "N = 50  # número de armónicos\n",
        "wo = 2*np.pi/To  # frecuencia fundamental\n",
        "\n",
        "# Definir bases\n",
        "phin = np.zeros((Nm, 2*N+1), dtype=np.complex_)  # crear matriz para guardar bases\n",
        "for n in range(-N, N+1, 1):\n",
        "    phin[:, n+N] = np.exp(1j*n*wo*tv)  # base de Fourier en el intervalo de interés\n",
        "\n",
        "# Calcular espectro\n",
        "cn = np.zeros(2*N+1, dtype=np.complex_)\n",
        "nv = np.linspace(-N, N, 2*N+1)  # vector num armónicos\n",
        "Cn = 0*nv\n",
        "Cn[N] = (A**2)/2  # Nivel DC\n",
        "Cn[N+2] = -(A**2)/4\n",
        "Cn[N-2] = -(A**2)/4\n",
        "\n",
        "st.subheader(\"Serie de fourier\")\n",
        "st.latex(r\"\\text{La representación generalizada de Fourier de} \\, x(t) \\, \\text{es la representación de la señal} \\\\ \\text{a partir de la combinación lineal}  \\quad {\\hat{x}}(t)=\\sum_{n=-N}^N c_n \\phi_n(t) \")\n",
        "st.latex(r\"\\text{Para la serie de Fourier exponencial,} \\quad \\hat{x}(t)=\\sum_{n=-N}^N c_ne^{jn\\omega_o t}\")\n",
        "st.latex(r\"\\text{El espectro se puede calcular como:} \\quad c_n = \\frac{1}{T}\\int_T x(t)e^{-jn\\omega_ot}dt\")\n",
        "st.latex(r\"\\text{El espectro para n=0, se conoce comunmente como el nivel DC u offset (promedio)} \\\\ \\text{de la señal, ya que:} \\quad c_0 = \\frac{1}{T}\\int_T x(t)e^{0}dt=\\frac{1}{T}\\int_T x(t)dt.\")\n",
        "\n",
        "st.markdown(\"\"\"\n",
        "#### Para nuestro caso, el valor del espectro queda:\n",
        "\"\"\")\n",
        "\n",
        "st.latex(r\"\"\"\n",
        "c_n =\n",
        "\\begin{cases}\n",
        "0 & \\text{si  } n \\neq [0, -2, 2] \\\\\n",
        "-\\frac{A^2}{4} & \\text{si  } n = \\pm 2  \\\\\n",
        "\\frac{A^2}{2} & \\text{si  } n = 0\n",
        "\\end{cases}\n",
        "\"\"\")\n",
        "\n",
        "\n",
        "# Gráficas del espectro\n",
        "st.subheader(\"Espectro de Fourier\")\n",
        "st.markdown(\"\"\"\n",
        "Se grafica el espectro obtenido (parte real, imaginaria, magnitud y fase)\n",
        "\"\"\")\n",
        "\n",
        "plt.figure(figsize=(10, 8))\n",
        "\n",
        "plt.subplot(2, 2, 1)\n",
        "plt.stem(nv, np.real(Cn), 'r')\n",
        "plt.xlabel(r'$nw_o$[rad/s]', fontsize=14)\n",
        "plt.ylabel(r'$Re\\{C_n\\}$', fontsize=14)\n",
        "plt.grid()\n",
        "\n",
        "plt.subplot(2, 2, 2)\n",
        "plt.stem(nv, np.imag(Cn), 'r')\n",
        "plt.xlabel(r'$nw_o$[rad/s]', fontsize=14)\n",
        "plt.ylabel(r'$Im\\{C_n\\}$', fontsize=14)\n",
        "plt.grid()\n",
        "\n",
        "plt.subplot(2, 2, 3)\n",
        "plt.stem(nv, abs(Cn), 'r')\n",
        "plt.xlabel(r'$nw_o$[rad/s]', fontsize=14)\n",
        "plt.ylabel(r'$|C_n|$', fontsize=14)\n",
        "plt.grid()\n",
        "\n",
        "plt.subplot(2, 2, 4)\n",
        "plt.stem(nv, np.angle(Cn), 'r')\n",
        "plt.xlabel(r'$nw_o$[rad/s]', fontsize=14)\n",
        "plt.ylabel(r'$\\langle C_n$', fontsize=14)\n",
        "plt.grid()\n",
        "\n",
        "plt.tight_layout()\n",
        "st.pyplot(plt.gcf())  # Mostrar la figura\n",
        "\n",
        "# Gráficas del espectro\n",
        "st.subheader(\"Espectro de Fourier en decibeles (Magnitud y Fase)\")\n",
        "st.markdown(\"\"\"\n",
        "Se grafica el espectro en diagrama de Bode\n",
        "\"\"\")\n",
        "\n",
        "plt.figure(figsize=(8, 8))\n",
        "\n",
        "\n",
        "plt.subplot(2, 1, 1)\n",
        "plt.stem(nv, 20 * np.log10(abs(Cn)), 'r')\n",
        "plt.xlabel(r'$nw_o$ [rad/s]', fontsize=14)\n",
        "plt.ylabel(r'$|C_n|$ [dB]', fontsize=14)\n",
        "plt.grid()\n",
        "plt.axis('tight')\n",
        "\n",
        "plt.subplot(2, 1, 2)\n",
        "plt.stem(nv, np.angle(Cn, deg=True), 'r')\n",
        "plt.xlabel(r'$nw_o$ [rad/s]', fontsize=14)\n",
        "plt.ylabel(r'Fase [°]', fontsize=14)\n",
        "plt.grid()\n",
        "plt.axis('tight')\n",
        "\n",
        "\n",
        "plt.tight_layout()\n",
        "st.pyplot(plt.gcf())  # Mostrar la figura\n",
        "\n",
        "# Gráfica interactiva para la reconstrucción de la señal\n",
        "st.subheader(\"Reconstrucción de la Señal\")\n",
        "st.latex(r\"\\text{Para calcular el error de reconstrucción respecto a la cantidad de armónicos} \\\\ \\text{considerados (filtrado espectral), se cálcula como:} \\quad E_r[\\%] = 1 - \\left(\\frac{1}{P_x}\\sum\\limits_{n=-N}^N{|c_n|^2}\\right).\")\n",
        "st.latex(r\"\\text{Donde:} \\quad P_x=\\frac{3A^4}{8}\")\n",
        "\n",
        "\n",
        "st.markdown(\"\"\"\n",
        "#### Se reconstruye la señal a partir de los pesos calculas y se calcula el error con respecto a la señal original\n",
        "\"\"\")\n",
        "Px = 3/8  # estimar según señal estudiada\n",
        "\n",
        "Na = st.slider(\"Selecciona el número de armónicos\", 1, N, 1)\n",
        "\n",
        "ind = np.arange(N-Na, N+Na+1)\n",
        "er = 1 - np.sum(abs(Cn[ind])**2)/Px\n",
        "xe = phin[:, ind].dot(Cn[ind])  # señal reconstruida\n",
        "\n",
        "plt.figure()\n",
        "plt.plot(tv, xe, color='b', marker='o', markersize=5, label='$x_e(t)$')  # señal estimada o filtrada\n",
        "plt.plot(tv, x, color='r', label='x(t)')  # señal original\n",
        "plt.title(f'$E_r$= {100*er:.2f}%', fontsize=16)\n",
        "plt.xlabel('t[s]')\n",
        "plt.ylabel('x(t)')\n",
        "plt.grid()\n",
        "plt.legend()\n",
        "st.pyplot(plt.gcf())  # Mostrar la figura\n",
        "\n"
      ],
      "metadata": {
        "colab": {
          "base_uri": "https://localhost:8080/"
        },
        "id": "FlEV9635DLez",
        "outputId": "9146ffbf-ef11-47df-8611-2f659d727239"
      },
      "execution_count": null,
      "outputs": [
        {
          "output_type": "stream",
          "name": "stdout",
          "text": [
            "Writing seriefourier.py\n"
          ]
        }
      ]
    },
    {
      "cell_type": "code",
      "source": [
        "token = '2lkDq5UB0Fkd6bAHgWTY47xtuV7_6HPVsJ7uiVqutGiq46W3J' #colocar aquí su token personal después de crear su cuenta con correo UNAL en Ngrok"
      ],
      "metadata": {
        "id": "UoMT6a2YDvfV"
      },
      "execution_count": null,
      "outputs": []
    },
    {
      "cell_type": "code",
      "source": [
        "from pyngrok import ngrok\n",
        "\n",
        "# Set authentication token (unique per user)\n",
        "ngrok.set_auth_token(token)\n",
        "\n",
        "# Start Streamlit server on a specific port\n",
        "!nohup streamlit run seriefourier.py --server.port 5011 &\n",
        "\n",
        "# Start ngrok tunnel to expose the Streamlit server\n",
        "ngrok_tunnel = ngrok.connect(addr='5011', proto='http', bind_tls=True)\n",
        "\n",
        "# Print the URL of the ngrok tunnel\n",
        "print(' * Tunnel URL:', ngrok_tunnel.public_url)"
      ],
      "metadata": {
        "colab": {
          "base_uri": "https://localhost:8080/"
        },
        "id": "QKnLYG5OD0ao",
        "outputId": "e46c0f3e-3804-4aa9-dec9-393f0dc8ef1d"
      },
      "execution_count": null,
      "outputs": [
        {
          "output_type": "stream",
          "name": "stdout",
          "text": [
            "nohup: appending output to 'nohup.out'\n",
            " * Tunnel URL: https://dd32-34-172-22-241.ngrok-free.app\n"
          ]
        }
      ]
    }
  ]
}