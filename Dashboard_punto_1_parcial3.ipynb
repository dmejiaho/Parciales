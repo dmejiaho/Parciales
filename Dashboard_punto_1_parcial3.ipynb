{
  "nbformat": 4,
  "nbformat_minor": 0,
  "metadata": {
    "colab": {
      "provenance": [],
      "include_colab_link": true
    },
    "kernelspec": {
      "name": "python3",
      "display_name": "Python 3"
    },
    "language_info": {
      "name": "python"
    }
  },
  "cells": [
    {
      "cell_type": "markdown",
      "metadata": {
        "id": "view-in-github",
        "colab_type": "text"
      },
      "source": [
        "<a href=\"https://colab.research.google.com/github/dmejiaho/Parciales/blob/main/Dashboard_punto_1_parcial3.ipynb\" target=\"_parent\"><img src=\"https://colab.research.google.com/assets/colab-badge.svg\" alt=\"Open In Colab\"/></a>"
      ]
    },
    {
      "cell_type": "code",
      "execution_count": null,
      "metadata": {
        "colab": {
          "base_uri": "https://localhost:8080/"
        },
        "id": "CCg7c1iwDE4k",
        "outputId": "42174b28-c8cb-4dec-8af9-6a1a2906a55e"
      },
      "outputs": [
        {
          "output_type": "stream",
          "name": "stdout",
          "text": [
            "Requirement already satisfied: pyngrok in /usr/local/lib/python3.10/dist-packages (7.2.0)\n",
            "Requirement already satisfied: PyYAML>=5.1 in /usr/local/lib/python3.10/dist-packages (from pyngrok) (6.0.2)\n"
          ]
        }
      ],
      "source": [
        "!pip install streamlit -q #instalación de librerías\n",
        "!pip install pyngrok"
      ]
    },
    {
      "cell_type": "code",
      "source": [
        "%%writefile seriefourier.py\n",
        "import streamlit as st\n",
        "import numpy as np\n",
        "import matplotlib.pyplot as plt\n",
        "from ipywidgets import interact\n",
        "from ipywidgets import IntSlider\n",
        "import sympy as sym\n",
        "import sympy.physics.control as control\n",
        "sym.init_printing()\n",
        "\n",
        "\n",
        "# Configurar el nombre de la página y el ícono\n",
        "st.set_page_config(page_title=\"Sistema MRA - Circuito RLC\", page_icon=\":chart_with_upwards_trend:\")\n",
        "\n",
        "# Barra lateral para mostrar los nombres de los involucrados\n",
        "st.sidebar.title(\"Involucrados en el Proyecto\")\n",
        "st.sidebar.write(\"Juan Jeronimo Castaño Rivera\")\n",
        "st.sidebar.write(\"Daniel Mauricio Mejia Hoyos\")\n",
        "st.sidebar.write(\"Wilmer Sebastian Perez Cuastumal\")\n",
        "\n",
        "# Título del dashboard\n",
        "st.title(\"Análisis de sistemas de segundo orden\")\n",
        "\n",
        "# Explicación del procedimiento\n",
        "st.markdown(\"\"\"\n",
        "### Procedimiento\n",
        "Se utilizaron los sistemas masa-resorte-amortiguador y circuito RLC para observar como se comportan en general los sistemas de segundo orden (A partir de la forma canónica de estos sistemas se estudia el tipo de amortiguamiento que presenta la respuesta al escalón de cada SLIT).\n",
        "\"\"\")\n",
        "\n",
        "# Mostrar las funciones de transferencia\n",
        "st.subheader(\"Funciones de transferencia\")\n",
        "\n",
        "st.markdown(\"\"\n",
        "\"\")\n",
        "st.latex(r\"\\text{La función de transferencia general de un sistema MRA, es:}\")\n",
        "st.latex(r\"H(s)=\\frac{1}{ms^2+cs+k}\")\n",
        "st.latex(r\"\\text{La función de transferencia general de un circuito RLC, es:}\")\n",
        "st.latex(r\"H(s)=\\frac{1}{LCs^2+RCs+1}\")\n",
        "st.latex(r\"\\text{La función de transferencia canónica de un sistema de segundo orden, es:}\")\n",
        "st.latex(r\"H(s)=K\\frac{w_n^2}{s^2+2 \\xi w_n s+w_n^2}\")\n",
        "st.latex(r\"\\text{donde:}\")\n",
        "st.latex(r\"\\xi: \\text{factor de amortiguamiento}\")\n",
        "st.latex(r\"w_n: \\text{frecuencia natural}\")\n",
        "st.latex(r\"K: \\text{ganancia}\")\n",
        "st.latex(r\"\\text{Según el factor de amortiguamiento, los SLIT de segundo orden se caracterizan como: }\")\n",
        "st.latex(r\"0< \\xi <1: \\text{SLIT subamortiguado}\")\n",
        "st.latex(r\"\\xi = 1: \\text{SLIT con amortiguamiento crítico}\")\n",
        "st.latex(r\"\\xi > 1: \\text{SLIT sobreamortiguado}\")\n",
        "st.latex(r\"\\xi = 0: \\text{SLIT oscilatorio}\")\n",
        "st.latex(r\"\\xi < 0: \\text{SLIT inestable}\")\n",
        "st.latex(r\"\\text{Para el sistema MRA:}\")\n",
        "st.latex(r\"K=\\frac{1}{k}\")\n",
        "st.latex(r\"w_n^2=\\frac{k}{m}\")\n",
        "st.latex(r\"\\xi = \\frac{c}{2\\sqrt{k m}}\")\n",
        "st.latex(r\"\\text{Para el circuito RLC:}\")\n",
        "st.latex(r\"K=1\")\n",
        "st.latex(r\"w_n^2=\\frac{1}{LC}\")\n",
        "st.latex(r\"\\xi = \\frac{R}{2}\\sqrt{\\frac{C}{L}}\")\n",
        "\n",
        "st.markdown(\"\"\"\n",
        "#### Desarrollo\n",
        "\"\"\")\n",
        "st.latex(r\"\\text{Si me dan el valor de} \\, \\xi \\, , \\text{el programa deberá calcular los valores del sistema MRA y del circuito RLC}\")\n",
        "xi = st.slider(\"Seleccione el valor del factor de amortiguamiento: \", min_value=-3.0, max_value=5.0, value=0.5)\n",
        "\n",
        "CC=0.5\n",
        "LL=0.5\n",
        "RR=2*xi*np.sqrt(LL/CC)\n",
        "kk=1/CC\n",
        "cc=RR\n",
        "mm=LL\n",
        "\n",
        "if(xi<0):\n",
        "  st.write(\"Para \\u03BE menor a cero, el sistema es inestable. En este caso, es imposible plantear sistemas MRA o circuitos RLC inestables. Implicarían parámetros negativos\")\n",
        "  st.write(\"Sin embargo, se puede realizar el proceso de hallar el diagrama de bode, diagrama de polos y ceros, respuesta escalón y respuesta impulso de manera ilustrativa\")\n",
        "  z=1\n",
        "\n",
        "elif(xi==0):\n",
        "  st.write(\"Para \\u03BE igual a cero, el sistema es oscilado.\")\n",
        "  z=0\n",
        "\n",
        "elif(xi==1):\n",
        "  st.write(\"Para \\u03BE igual a 1, el sistema es críticamente amortiguado.\")\n",
        "  z=0\n",
        "elif(xi>1):\n",
        "  st.write(\"Para \\u03BE mayor a 1, el sistema es sobre-amortiguado.\")\n",
        "  z=0\n",
        "\n",
        "elif(xi<1 and xi>0):\n",
        "  st.write(\"Para \\u03BE entre 0 y 1, el sistema es sub-amortiguado.\")\n",
        "  z=0\n",
        "\n",
        "if (z==0):\n",
        "\n",
        "  st.write(\"\\n\\nLos valores que satisfacen el valor de \\u03BE del sistema MRA son:\")\n",
        "  st.write(f\"k={kk}N/m\")\n",
        "  st.write(f\"c={cc}Ns/m\")\n",
        "  st.write(f\"m={mm}kg\")\n",
        "\n",
        "  st.write(\"\\n\\nLos valores que satisfacen el valor de \\u03BE del sistema MRA son:\")\n",
        "  st.write(f\"C={CC}F\")\n",
        "  st.write(f\"L={LL}H\")\n",
        "  st.write(f\"R={RR}Ω\")\n",
        "\n",
        "st.write(f\"\\n\\nPara nuestro caso, w_n={1/np.sqrt(LL*CC)}\")\n",
        "\n",
        "#RLC = {R: sym.Rational(str(RR)), L: sym.Rational(str(LL)), C: sym.Rational(str(CC))}\n",
        "\n",
        "s = sym.symbols('s', complex=True)\n",
        "t, R, L, C = sym.symbols('t R L C', positive=True)\n",
        "#Entrada de interés en Laplace\n",
        "X = 1/s # Ajustar según tipo de entrada\n",
        "H=control.TransferFunction(1,L*C*s**2 + R*C*s + 1,s) #Funcion de transferencia con la API de control\n",
        "#Hlc = H/(1+H) #para lazo cerrado\n",
        "\n",
        "RLC = {R: sym.Rational(str(RR)), L: sym.Rational(str(LL)), C: sym.Rational(str(CC))}\n",
        "\n",
        "Y = H.num * X /H.den#función de transferencia del circuito multiplicada por X(s)\n",
        "#Función de salida\n",
        "\n",
        "#Función de salida en Laplace factorizada (fracciones parciales)\n",
        "Yp = Y.apart(s) # el comando apart factoriza la expresión simbólica\n",
        "\n",
        "#Modelo en el tiempo en función de RLC\n",
        "Ye = Yp\n",
        "#Se recorre cada fracción parcial según factorización para simplificar cálculos\n",
        "for j in range(len(Ye.args)):\n",
        "    if j==0:#primer elemento de la solucion\n",
        "      yt = sym.inverse_laplace_transform(Ye.args[j], s, t)\n",
        "    else: #siguientes elementos concatenados\n",
        "      yt+= sym.inverse_laplace_transform(Ye.args[j], s, t)\n",
        "\n",
        "#Modelo en el tiempo con RLC evaluados\n",
        "Ye = Yp.subs(RLC)\n",
        "for j in range(len(Ye.args)):\n",
        "    if j==0:\n",
        "      yt = sym.inverse_laplace_transform(Ye.args[j], s, t)\n",
        "    else:\n",
        "      yt+= sym.inverse_laplace_transform(Ye.args[j], s, t)\n",
        "\n",
        "st.markdown(\"\"\"\n",
        "#### Diagrama de polos y ceros\n",
        "\"\"\")\n",
        "#Diagrama de polos y ceros\n",
        "HRLC=control.TransferFunction(H.num,H.den.subs(RLC),s)\n",
        "control.pole_zero_plot(HRLC)\n",
        "st.pyplot(plt.gcf())  # Mostrar la figura\n",
        "plt.clf()\n",
        "\n",
        "st.markdown(\"\"\"\n",
        "#### Diagrama de Bode\n",
        "\"\"\")\n",
        "#Diagrama de Bode\n",
        "control.bode_plot(HRLC)\n",
        "st.pyplot(plt.gcf())  # Mostrar la figura\n",
        "plt.clf()\n",
        "\n",
        "st.markdown(\"\"\"\n",
        "#### Respuesta al impulso en el tiempo\n",
        "\"\"\")\n",
        "#Respuesta al impulso\n",
        "control.impulse_response_plot(HRLC)\n",
        "st.pyplot(plt.gcf())  # Mostrar la figura\n",
        "plt.clf()\n",
        "\n",
        "st.markdown(\"\"\"\n",
        "#### Respuesta al escalón en el tiempo\n",
        "\"\"\")\n",
        "#Respuesta al impulso\n",
        "control.step_response_plot(HRLC)\n",
        "st.pyplot(plt.gcf())  # Mostrar la figura\n",
        "plt.clf()\n"
      ],
      "metadata": {
        "colab": {
          "base_uri": "https://localhost:8080/"
        },
        "id": "72hiJ4joDI7-",
        "outputId": "b93e6fae-b4ff-4248-ed55-6d493f5a01e7"
      },
      "execution_count": null,
      "outputs": [
        {
          "output_type": "stream",
          "name": "stdout",
          "text": [
            "Overwriting seriefourier.py\n"
          ]
        }
      ]
    },
    {
      "cell_type": "code",
      "source": [
        "token = '2maC7FWeV10FqgyYS7bbT7LlG31_VL9v3A7SAuVTyZMyKP12'\n",
        "#token = '2maC8CGjEgzmGr3l0TWkDHqnKdd_6oU59SUFP74LG7BtMskMV' #colocar aquí su token personal después de crear su cuenta con correo UNAL en Ngrok"
      ],
      "metadata": {
        "id": "coGt8MlhDL9e"
      },
      "execution_count": null,
      "outputs": []
    },
    {
      "cell_type": "code",
      "source": [
        "from pyngrok import ngrok\n",
        "\n",
        "# Set authentication token (unique per user)\n",
        "ngrok.set_auth_token(token)\n",
        "\n",
        "# Start Streamlit server on a specific port\n",
        "!nohup streamlit run seriefourier.py --server.port 5011 &\n",
        "\n",
        "# Start ngrok tunnel to expose the Streamlit server\n",
        "ngrok_tunnel = ngrok.connect(addr='5011', proto='http', bind_tls=True)\n",
        "\n",
        "# Print the URL of the ngrok tunnel\n",
        "print(' * Tunnel URL:', ngrok_tunnel.public_url)"
      ],
      "metadata": {
        "colab": {
          "base_uri": "https://localhost:8080/"
        },
        "id": "vfrOnx4xDOQv",
        "outputId": "71692b9c-9a9f-449c-bce1-79f7453d0e2e"
      },
      "execution_count": null,
      "outputs": [
        {
          "output_type": "stream",
          "name": "stdout",
          "text": [
            "nohup: appending output to 'nohup.out'\n",
            " * Tunnel URL: https://7172-34-80-52-183.ngrok-free.app\n"
          ]
        }
      ]
    }
  ]
}